{
 "cells": [
  {
   "cell_type": "code",
   "execution_count": null,
   "metadata": {},
   "outputs": [],
   "source": [
    "#importing the necessary libraries\n",
    "from mlxtend.feature_selection import SequentialFeatureSelector as SFS\n",
    "from sklearn.linear_model import LinearRegression\n",
    "# Sequential Forward Selection(sfs)\n",
    "sfs = SFS(LinearRegression(),\n",
    "           k_features=17,\n",
    "           forward=True,\n",
    "           floating=False,\n",
    "           scoring = 'r2',\n",
    "           cv = 0)\n",
    "\n",
    "sfs.fit(X_train, y_train)\n",
    "\n",
    "from mlxtend.plotting import plot_sequential_feature_selection as plot_sfs\n",
    "fig1 = plot_sfs(sfs.get_metric_dict(), kind='std_dev')\n",
    "plt.title('Sequential Forward Selection (w. StdErr)')\n",
    "plt.grid()\n",
    "plt.show()\n",
    "\n",
    "sfs1 = SFS(LinearRegression(),\n",
    "           k_features=17,\n",
    "           forward=False,\n",
    "           floating=False,\n",
    "           scoring = 'r2',\n",
    "           cv = 0)\n",
    "\n",
    "sfs1.fit(X_train, y_train)\n",
    "\n",
    "fig1 = plot_sfs(sfs1.get_metric_dict(), kind='std_dev')\n",
    "plt.title('Sequential Backward Selection (w. StdErr)')\n",
    "plt.grid()\n",
    "plt.show()\n",
    "\n",
    "sfs2 = SFS(LinearRegression(),\n",
    "           k_features=17,\n",
    "           forward=True,\n",
    "           floating=True,\n",
    "           scoring = 'r2',\n",
    "           cv = 0)\n",
    "\n",
    "sfs2.fit(X_train, y_train)\n",
    "\n",
    "fig1 = plot_sfs(sfs2.get_metric_dict(), kind='std_dev')\n",
    "plt.title('Sequential mix Selection (w. StdErr)')\n",
    "plt.grid()\n",
    "plt.show()\n",
    "\n",
    "sfs_final = SFS(LinearRegression(),\n",
    "           k_features=17,\n",
    "           forward=True,\n",
    "           floating=True,\n",
    "           scoring = 'r2',\n",
    "           cv = 0)\n",
    "\n",
    "sfs_final.fit(X_train, y_train)"
   ]
  },
  {
   "cell_type": "code",
   "execution_count": 1,
   "metadata": {
    "ExecuteTime": {
     "end_time": "2020-07-21T16:12:24.122809Z",
     "start_time": "2020-07-21T16:12:24.077929Z"
    }
   },
   "outputs": [
    {
     "ename": "NameError",
     "evalue": "name 'pd' is not defined",
     "output_type": "error",
     "traceback": [
      "\u001b[1;31m---------------------------------------------------------------------------\u001b[0m",
      "\u001b[1;31mNameError\u001b[0m                                 Traceback (most recent call last)",
      "\u001b[1;32m<ipython-input-1-c7697ffb39fb>\u001b[0m in \u001b[0;36m<module>\u001b[1;34m\u001b[0m\n\u001b[0;32m     17\u001b[0m     \u001b[1;32mreturn\u001b[0m \u001b[0mbest_model\u001b[0m\u001b[1;33m\u001b[0m\u001b[1;33m\u001b[0m\u001b[0m\n\u001b[0;32m     18\u001b[0m \u001b[1;33m\u001b[0m\u001b[0m\n\u001b[1;32m---> 19\u001b[1;33m \u001b[0mmodels\u001b[0m \u001b[1;33m=\u001b[0m \u001b[0mpd\u001b[0m\u001b[1;33m.\u001b[0m\u001b[0mDataFrame\u001b[0m\u001b[1;33m(\u001b[0m\u001b[0mcolumns\u001b[0m\u001b[1;33m=\u001b[0m\u001b[1;33m[\u001b[0m\u001b[1;34m\"Model\"\u001b[0m\u001b[1;33m,\u001b[0m \u001b[1;34m\"R_Squared\"\u001b[0m\u001b[1;33m]\u001b[0m\u001b[1;33m)\u001b[0m\u001b[1;33m\u001b[0m\u001b[1;33m\u001b[0m\u001b[0m\n\u001b[0m\u001b[0;32m     20\u001b[0m \u001b[1;33m\u001b[0m\u001b[0m\n\u001b[0;32m     21\u001b[0m \u001b[1;32mfor\u001b[0m \u001b[0mi\u001b[0m \u001b[1;32min\u001b[0m \u001b[0mrange\u001b[0m\u001b[1;33m(\u001b[0m\u001b[1;36m1\u001b[0m\u001b[1;33m,\u001b[0m \u001b[1;36m8\u001b[0m\u001b[1;33m)\u001b[0m\u001b[1;33m:\u001b[0m\u001b[1;33m\u001b[0m\u001b[1;33m\u001b[0m\u001b[0m\n",
      "\u001b[1;31mNameError\u001b[0m: name 'pd' is not defined"
     ]
    }
   ],
   "source": [
    "#best subset algorith by book\n",
    "import itertools\n",
    "\n",
    "def processSubset(feature_set):\n",
    "    model = sm.OLS(y_train, sm.add_constant(X_train[list(feature_set)]))\n",
    "    regr = model.fit()\n",
    "    y_pred = regr.predict(sm.add_constant(X_train[list(feature_set)]))\n",
    "    r = r2_score(y_train, y_pred)\n",
    "    return {\"Model\" : regr, \"R_Squared\" : r}\n",
    "\n",
    "def getBest(k):\n",
    "    results = []\n",
    "    for combo in itertools.combinations(X_train.columns, k):\n",
    "        results.append(processSubset(combo))\n",
    "    models = pd.DataFrame(results)\n",
    "    best_model = models.loc[models['R_Squared'].argmax()]\n",
    "    return best_model\n",
    "\n",
    "models = pd.DataFrame(columns=[\"Model\", \"R_Squared\"])\n",
    "\n",
    "for i in range(1, 8):\n",
    "    models.loc[i] = getBest(i)"
   ]
  },
  {
   "cell_type": "code",
   "execution_count": null,
   "metadata": {},
   "outputs": [],
   "source": [
    "columns = list(train.columns)     #created a list of all the columns in our dataset.\n",
    "columns.remove('price')\n",
    "\n",
    "#using combinations from iotertools will get a list which stores all the possible combinations between the features.\n",
    "from itertools import combinations \n",
    "\n",
    "all_combin = []\n",
    "for i in range(1, len(columns)+1):\n",
    "    x = list(combinations(columns, i))\n",
    "    all_combin.append(x)\n",
    "\n",
    "#merging the list of lists of combinations to a single list.\n",
    "import itertools\n",
    "merged = list(itertools.chain.from_iterable(all_combin))"
   ]
  },
  {
   "cell_type": "code",
   "execution_count": null,
   "metadata": {},
   "outputs": [],
   "source": [
    "#Iterating over all the possible combinations and finding the value of R-squared on the validation data.\n",
    "#appending those values in a list r_Score.\n",
    "model_1 = LinearRegression()\n",
    "r_Score_validate = []\n",
    "rmse_validate = []\n",
    "for i in merged:\n",
    "    x_train = train[np.intersect1d(train.columns, i)]\n",
    "    model_1.fit(x_train, y_train)\n",
    "    y_pred = model_1.predict(x_train)\n",
    "    r = r2_score(y_train, y_pred)\n",
    "    r_Score_validate.append(r)\n",
    "    y_pred = np.array(y_pred)\n",
    "    rmse = np.sqrt(np.sum((np.array(np.exp(y_train)) - (np.exp(y_pred)))**2)/(len(y_train) - 2))\n",
    "    rmse_validate.append(round(rmse, 0))"
   ]
  }
 ],
 "metadata": {
  "kernelspec": {
   "display_name": "Python 3",
   "language": "python",
   "name": "python3"
  },
  "language_info": {
   "codemirror_mode": {
    "name": "ipython",
    "version": 3
   },
   "file_extension": ".py",
   "mimetype": "text/x-python",
   "name": "python",
   "nbconvert_exporter": "python",
   "pygments_lexer": "ipython3",
   "version": "3.7.3"
  }
 },
 "nbformat": 4,
 "nbformat_minor": 2
}
